{
  "nbformat": 4,
  "nbformat_minor": 0,
  "metadata": {
    "colab": {
      "provenance": [],
      "authorship_tag": "ABX9TyOCZsxvumewMjTP3Tlvvjfr",
      "include_colab_link": true
    },
    "kernelspec": {
      "name": "python3",
      "display_name": "Python 3"
    },
    "language_info": {
      "name": "python"
    }
  },
  "cells": [
    {
      "cell_type": "markdown",
      "metadata": {
        "id": "view-in-github",
        "colab_type": "text"
      },
      "source": [
        "<a href=\"https://colab.research.google.com/github/vthylur/Backtesting/blob/main/NSE_data_extract.ipynb\" target=\"_parent\"><img src=\"https://colab.research.google.com/assets/colab-badge.svg\" alt=\"Open In Colab\"/></a>"
      ]
    },
    {
      "cell_type": "code",
      "source": [
        "# === STEP 1: Install Dependencies ===\n",
        "!pip install yfinance ta openpyxl --quiet\n",
        "\n",
        "# === STEP 2: Import Libraries ===\n",
        "import yfinance as yf\n",
        "import pandas as pd\n",
        "import numpy as np\n",
        "import ta\n",
        "from datetime import datetime\n",
        "from zipfile import ZipFile\n",
        "import os\n",
        "\n",
        "# === STEP 3: Indicator Calculation ===\n",
        "def calculate_indicators(df, close_col, high_col, low_col, volume_col, time_period_label):\n",
        "    df_copy = df.copy()\n",
        "\n",
        "    # Bollinger Bands\n",
        "    bb_window = 20\n",
        "    bb_std_dev = 2\n",
        "    df_copy['BB_SMA'] = df_copy[close_col].rolling(window=bb_window).mean()\n",
        "    df_copy['STD'] = df_copy[close_col].rolling(window=bb_window).std()\n",
        "    df_copy['BB_upper'] = df_copy['BB_SMA'] + bb_std_dev * df_copy['STD']\n",
        "    df_copy['BB_lower'] = df_copy['BB_SMA'] - bb_std_dev * df_copy['STD']\n",
        "    df_copy['Close_vs_BB'] = df_copy[close_col] / df_copy['BB_upper'].replace(0, np.nan)\n",
        "    df_copy['BB_width'] = df_copy['BB_upper'] - df_copy['BB_lower']\n",
        "    df_copy['BB_Squeeze'] = df_copy['BB_width'] < df_copy['BB_width'].quantile(0.2)\n",
        "\n",
        "    # Keltner Channel + TTM Squeeze\n",
        "    ema = ta.trend.ema_indicator(df_copy[close_col], window=20)\n",
        "    atr = ta.volatility.average_true_range(df_copy[high_col], df_copy[low_col], df_copy[close_col], window=20)\n",
        "    df_copy['KC_upper'] = ema + 1.5 * atr\n",
        "    df_copy['KC_lower'] = ema - 1.5 * atr\n",
        "    df_copy['TTM_Squeeze_On'] = (df_copy['BB_upper'] < df_copy['KC_upper']) & (df_copy['BB_lower'] > df_copy['KC_lower'])\n",
        "    df_copy['TTM_Squeeze_Off'] = (df_copy['BB_upper'] > df_copy['KC_upper']) & (df_copy['BB_lower'] < df_copy['KC_lower'])\n",
        "\n",
        "    # Indicators\n",
        "    df_copy['MACD'] = ta.trend.macd(df_copy[close_col])\n",
        "    df_copy['RSI'] = ta.momentum.rsi(df_copy[close_col])\n",
        "    df_copy['ROC'] = ta.momentum.roc(df_copy[close_col])\n",
        "    df_copy['OBV'] = ta.volume.on_balance_volume(df_copy[close_col], df_copy[volume_col])\n",
        "    df_copy['VWAP'] = ((df_copy[high_col] + df_copy[low_col] + df_copy[close_col]) / 3 * df_copy[volume_col]).cumsum() / df_copy[volume_col].cumsum().replace(0, np.nan)\n",
        "\n",
        "    # ADX and Stochastic\n",
        "    adx = ta.trend.ADXIndicator(df_copy[high_col], df_copy[low_col], df_copy[close_col])\n",
        "    df_copy['ADX'] = adx.adx()\n",
        "    df_copy['+DI'] = adx.adx_pos()\n",
        "    df_copy['-DI'] = adx.adx_neg()\n",
        "\n",
        "    stoch = ta.momentum.StochasticOscillator(df_copy[high_col], df_copy[low_col], df_copy[close_col])\n",
        "    df_copy['Stoch_k'] = stoch.stoch()\n",
        "    df_copy['Stoch_d'] = stoch.stoch_signal()\n",
        "\n",
        "    # SMA & EMA\n",
        "    for w in [20, 50, 200]:\n",
        "        df_copy[f'SMA_{w}{time_period_label}'] = ta.trend.sma_indicator(df_copy[close_col], window=w)\n",
        "        df_copy[f'EMA_{w}{time_period_label}'] = ta.trend.ema_indicator(df_copy[close_col], window=w)\n",
        "\n",
        "    # Support / Resistance\n",
        "    df_copy['Support'] = df_copy[close_col].rolling(window=20).min()\n",
        "    df_copy['Resistance'] = df_copy[close_col].rolling(window=20).max()\n",
        "\n",
        "    # Fibonacci\n",
        "    recent = df_copy.tail(100)\n",
        "    hi = recent[high_col].max()\n",
        "    lo = recent[low_col].min()\n",
        "    rng = hi - lo\n",
        "    df_copy['Fib_23.6'] = hi - 0.236 * rng\n",
        "    df_copy['Fib_38.2'] = hi - 0.382 * rng\n",
        "    df_copy['Fib_50.0'] = hi - 0.500 * rng\n",
        "    df_copy['Fib_61.8'] = hi - 0.618 * rng\n",
        "\n",
        "    # Volume MAs\n",
        "    for w in [20, 50]:\n",
        "        df_copy[f'Vol_SMA_{w}{time_period_label}'] = df_copy[volume_col].rolling(window=w).mean()\n",
        "    df_copy[f'Vol_vs_SMA20{time_period_label}'] = df_copy[volume_col] / df_copy[f'Vol_SMA_20{time_period_label}'] - 1\n",
        "\n",
        "    df_copy.drop(columns=['BB_SMA', 'STD'], errors='ignore', inplace=True)\n",
        "    return df_copy\n",
        "\n",
        "# === STEP 4: Loop for All Symbols ===\n",
        "symbols = [\"TCS.NS\", \"INFY.NS\"]  # Replace with your full list\n",
        "start_date = \"2003-01-01\"\n",
        "output_folder = \"stocks_output\"\n",
        "os.makedirs(output_folder, exist_ok=True)\n",
        "\n",
        "for symbol in symbols:\n",
        "    df = yf.download(symbol, start=start_date, interval=\"1d\", auto_adjust=False, progress=False)\n",
        "    if isinstance(df.columns, pd.MultiIndex):\n",
        "        df.columns = df.columns.get_level_values(0)\n",
        "    df.columns = [col.capitalize() for col in df.columns]\n",
        "    if df.empty or not all(c in df.columns for c in ['Open', 'High', 'Low', 'Close', 'Volume']):\n",
        "        continue\n",
        "    df.index = pd.to_datetime(df.index)\n",
        "\n",
        "    # Timeframes\n",
        "    df_daily = calculate_indicators(df.copy(), 'Close', 'High', 'Low', 'Volume', 'd')\n",
        "    df_weekly = calculate_indicators(df.resample('W').agg({'Open':'first','High':'max','Low':'min','Close':'last','Volume':'sum'}).dropna(), 'Close', 'High', 'Low', 'Volume', 'w')\n",
        "    df_monthly = calculate_indicators(df.resample('M').agg({'Open':'first','High':'max','Low':'min','Close':'last','Volume':'sum'}).dropna(), 'Close', 'High', 'Low', 'Volume', 'm')\n",
        "\n",
        "    # Order columns\n",
        "    col_order = ['Date', 'Adj Close', 'Close', 'High', 'Low', 'Open', 'Volume',\n",
        "        'MACD', 'RSI', 'ROC', 'ADX', '+DI', '-DI', 'Stoch_k', 'Stoch_d', 'OBV', 'VWAP',\n",
        "        'Support', 'Resistance', 'Fib_23.6', 'Fib_38.2', 'Fib_50.0', 'Fib_61.8',\n",
        "        'BB_upper', 'BB_lower', 'Close_vs_BB', 'BB_width', 'BB_Squeeze',\n",
        "        'KC_upper', 'KC_lower', 'TTM_Squeeze_On', 'TTM_Squeeze_Off',\n",
        "        'SMA_20d', 'EMA_20d', 'SMA_50d', 'EMA_50d', 'SMA_200d', 'EMA_200d',\n",
        "        'Vol_SMA_20d', 'Vol_SMA_50d', 'Vol_vs_SMA20d']\n",
        "\n",
        "    # Save\n",
        "    output_file = f\"{output_folder}/{symbol.replace('.NS','')}.xlsx\"\n",
        "    with pd.ExcelWriter(output_file, engine='openpyxl') as writer:\n",
        "        df_daily.to_excel(writer, sheet_name=\"Daily\", index=False)\n",
        "        df_weekly.to_excel(writer, sheet_name=\"Weekly\", index=False)\n",
        "        df_monthly.to_excel(writer, sheet_name=\"Monthly\", index=False)\n",
        "    print(f\"✅ {symbol} saved\")\n",
        "\n",
        "# === STEP 5: Zip Output ===\n",
        "zip_path = f\"{output_folder}.zip\"\n",
        "with ZipFile(zip_path, 'w') as zipf:\n",
        "    for root, _, files in os.walk(output_folder):\n",
        "        for file in files:\n",
        "            zipf.write(os.path.join(root, file), arcname=file)\n",
        "\n",
        "from IPython.display import FileLink\n",
        "FileLink(zip_path)\n"
      ],
      "metadata": {
        "colab": {
          "base_uri": "https://localhost:8080/",
          "height": 158
        },
        "id": "hdVqj7hz1Xul",
        "outputId": "acc71045-33ca-4caa-df1d-19060d5c614f"
      },
      "execution_count": null,
      "outputs": [
        {
          "output_type": "stream",
          "name": "stderr",
          "text": [
            "/tmp/ipython-input-3-1926984375.py:98: FutureWarning: 'M' is deprecated and will be removed in a future version, please use 'ME' instead.\n",
            "  df_monthly = calculate_indicators(df.resample('M').agg({'Open':'first','High':'max','Low':'min','Close':'last','Volume':'sum'}).dropna(), 'Close', 'High', 'Low', 'Volume', 'm')\n"
          ]
        },
        {
          "output_type": "stream",
          "name": "stdout",
          "text": [
            "✅ TCS.NS saved\n"
          ]
        },
        {
          "output_type": "stream",
          "name": "stderr",
          "text": [
            "/tmp/ipython-input-3-1926984375.py:98: FutureWarning: 'M' is deprecated and will be removed in a future version, please use 'ME' instead.\n",
            "  df_monthly = calculate_indicators(df.resample('M').agg({'Open':'first','High':'max','Low':'min','Close':'last','Volume':'sum'}).dropna(), 'Close', 'High', 'Low', 'Volume', 'm')\n"
          ]
        },
        {
          "output_type": "stream",
          "name": "stdout",
          "text": [
            "✅ INFY.NS saved\n"
          ]
        },
        {
          "output_type": "execute_result",
          "data": {
            "text/plain": [
              "/content/stocks_output.zip"
            ],
            "text/html": [
              "<a href='stocks_output.zip' target='_blank'>stocks_output.zip</a><br>"
            ]
          },
          "metadata": {},
          "execution_count": 3
        }
      ]
    }
  ]
}